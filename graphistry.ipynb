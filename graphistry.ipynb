{
 "cells": [
  {
   "cell_type": "code",
   "execution_count": 6,
   "metadata": {
    "collapsed": true
   },
   "outputs": [],
   "source": [
    "import graphistry\n",
    "import pandas as pd\n",
    "\n",
    "def load_graphistry_key():\n",
    "    graphistry_key = \"\"\n",
    "    with open(\"graphistry_key.txt\", \"r\") as f:\n",
    "        for line in f:\n",
    "            graphistry_key = line\n",
    "            break\n",
    "    return graphistry_key\n",
    "\n",
    "def plot_graphistry(interactions_file):\n",
    "    gkey = load_graphistry_key()\n",
    "    print(\"Graphistry key: \" + gkey)\n",
    "    graphistry.register(key=gkey)\n",
    "    print(\"Reading interactions file.\")\n",
    "    df = pd.read_csv(interactions_file)\n",
    "    plotter = graphistry.bind(source=\"Source\", destination=\"Target\")\n",
    "    print(\"Plotting space.\")\n",
    "    plotter.plot(df)"
   ]
  },
  {
   "cell_type": "code",
   "execution_count": null,
   "metadata": {},
   "outputs": [
    {
     "name": "stdout",
     "output_type": "stream",
     "text": [
      "Graphistry key: 36a2400df612b733de715f2db5d51370c91d86b4c6b8caa575c05b5a4857d298f83fcef999073752a436f36adcb4dade\n",
      "\n",
      "Reading interactions file.\n",
      "Plotting space.\n"
     ]
    },
    {
     "name": "stderr",
     "output_type": "stream",
     "text": [
      "WARNING:  Large graph: |nodes| + |edges| = 5376719. Layout/rendering might be slow.\n"
     ]
    },
    {
     "name": "stdout",
     "output_type": "stream",
     "text": [
      "Uploading 41009 kB. This may take a while...\n"
     ]
    }
   ],
   "source": [
    "filename = \"follower_network/senthomtillis/interactions.csv\"\n",
    "plot_graphistry(filename)"
   ]
  },
  {
   "cell_type": "code",
   "execution_count": null,
   "metadata": {
    "collapsed": true
   },
   "outputs": [],
   "source": []
  }
 ],
 "metadata": {
  "kernelspec": {
   "display_name": "Python 2",
   "language": "python",
   "name": "python2"
  },
  "language_info": {
   "codemirror_mode": {
    "name": "ipython",
    "version": 2
   },
   "file_extension": ".py",
   "mimetype": "text/x-python",
   "name": "python",
   "nbconvert_exporter": "python",
   "pygments_lexer": "ipython2",
   "version": "2.7.13"
  }
 },
 "nbformat": 4,
 "nbformat_minor": 2
}
